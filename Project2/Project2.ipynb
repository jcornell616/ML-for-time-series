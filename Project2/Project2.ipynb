{
 "cells": [
  {
   "cell_type": "markdown",
   "id": "c5fd76bb",
   "metadata": {},
   "source": [
    "# EEE6504 - HW3 #\n",
    "## Jackson Cornell  | Michael Kim ##"
   ]
  },
  {
   "cell_type": "code",
   "execution_count": 1,
   "id": "575c2fb7",
   "metadata": {},
   "outputs": [],
   "source": [
    "import math\n",
    "import time\n",
    "import numpy as np\n",
    "from numpy import random\n",
    "import matplotlib.pyplot as plt\n",
    "from scipy.linalg import toeplitz"
   ]
  },
  {
   "cell_type": "markdown",
   "id": "361077cb",
   "metadata": {},
   "source": [
    "## Functions ##"
   ]
  },
  {
   "cell_type": "code",
   "execution_count": 2,
   "id": "bee676cd",
   "metadata": {},
   "outputs": [],
   "source": [
    "# Gaussian kernel\n",
    "def Kernel(x, kernel_size) :\n",
    "    return np.exp(-x**2 / kernel_size**2)"
   ]
  },
  {
   "cell_type": "code",
   "execution_count": 3,
   "id": "6fbaffa1",
   "metadata": {},
   "outputs": [],
   "source": [
    "# Vector quantization algorithm\n",
    "def QV(C, err, threshold, embedding_size, sample, current_error) :\n",
    "    # compute minimum distance\n",
    "    minimum = 1e100\n",
    "    min_index = 0\n",
    "    if (len(C) != 0) :\n",
    "        min_index = np.argmin(abs(sample[embedding_size-1] - np.array(C)[:,embedding_size-1]))\n",
    "        minimum = abs(sample[embedding_size-1] - np.array(C)[min_index,embedding_size-1])\n",
    "    # update codebook\n",
    "    if (minimum > threshold) :\n",
    "        C.append(sample)\n",
    "        err.append(current_error)\n",
    "    else :\n",
    "        err[min_index] += current_error\n",
    "    return C, err"
   ]
  },
  {
   "cell_type": "code",
   "execution_count": 4,
   "id": "bc73937b",
   "metadata": {},
   "outputs": [],
   "source": [
    "# QKLMS filter with MSE cost function\n",
    "def QKLMS_MSE(x, d, kernel_size, embedding_size, step_size, threshold) :\n",
    "    # calculate epochs\n",
    "    epochs = np.size(x)\n",
    "    # initialize vectors\n",
    "    x = np.concatenate((np.zeros(embedding_size), x))\n",
    "    e = np.zeros(epochs)\n",
    "    y = np.zeros(epochs)\n",
    "    a = np.zeros(epochs)\n",
    "    growth = np.zeros(epochs)\n",
    "    C = []\n",
    "    err = []\n",
    "    for i in range(epochs) :\n",
    "        # compute output\n",
    "        y[i] = 0\n",
    "        x_vect = np.array(x[i:(i+embedding_size)])\n",
    "        if (i != 0) :\n",
    "            y[i] = step_size * np.array(err[0:i]).T @ Kernel(np.linalg.norm(x_vect - np.array(C), 2, axis=1), kernel_size)\n",
    "        # update error\n",
    "        e[i] = d[i] - y[i]\n",
    "        # compute QV\n",
    "        C, err = QV(C, err, threshold, embedding_size, x_vect, e[i])\n",
    "        # update growth\n",
    "        growth[i] = len(C)\n",
    "    # return weights and learning curve\n",
    "    return e, y, growth, step_size*np.array(err)"
   ]
  },
  {
   "cell_type": "code",
   "execution_count": 5,
   "id": "8c255b68",
   "metadata": {},
   "outputs": [],
   "source": [
    "# QKLMS filter with MCC cost function\n",
    "def QKLMS_MCC(x, d, kernel_size, entropy_kernel_size, embedding_size, step_size, threshold) :\n",
    "    # calculate epochs\n",
    "    epochs = np.size(x)\n",
    "    # initialize vectors\n",
    "    x = np.concatenate((np.zeros(embedding_size), x))\n",
    "    e = np.zeros(epochs)\n",
    "    y = np.zeros(epochs)\n",
    "    a = np.zeros(epochs)\n",
    "    growth = np.zeros(epochs)\n",
    "    C = []\n",
    "    err = []\n",
    "    for i in range(epochs) :\n",
    "        # compute output\n",
    "        y[i] = 0\n",
    "        x_vect = np.array(x[i:(i+embedding_size)])\n",
    "        if (i != 0) :\n",
    "            y[i] = step_size * (np.array(err[0:i]) * Kernel(np.array(err[0:i]), entropy_kernel_size)).T @ Kernel(np.linalg.norm(x_vect - np.array(C), 2, axis=1), kernel_size) / entropy_kernel_size**2\n",
    "        # update error\n",
    "        e[i] = d[i] - y[i]\n",
    "        # compute QV\n",
    "        C, err = QV(C, err, threshold, embedding_size, x_vect, e[i])\n",
    "        # update growth\n",
    "        growth[i] = len(C)\n",
    "    # return weights and learning curve\n",
    "    return e, y, growth, step_size*np.array(err)"
   ]
  },
  {
   "cell_type": "code",
   "execution_count": 6,
   "id": "2ac0449c",
   "metadata": {},
   "outputs": [],
   "source": [
    "# KRLS filter with MSE cost function\n",
    "def QKRLS_MSE(x, d, regularizer, kernel_size, embedding_size, threshold) :\n",
    "    # calculate epochs\n",
    "    epochs = np.size(x)\n",
    "    # initialize vectors\n",
    "    x = np.concatenate((np.zeros(embedding_size), x))\n",
    "    e = np.zeros(epochs)\n",
    "    y = np.zeros(epochs)\n",
    "    growth = np.zeros(epochs)\n",
    "    C = []\n",
    "    a = []\n",
    "    Q = 0\n",
    "    # iterate through samples\n",
    "    for i in range(epochs) :\n",
    "        # run QKRLS\n",
    "        x_vect = x[i:(i+embedding_size)]\n",
    "        if (i == 0) :\n",
    "            Q = np.array([regularizer + Kernel(0, kernel_size)])**-1\n",
    "            a = np.array([Q*d[0]])\n",
    "            y[0] = 0\n",
    "            C.append(x_vect)\n",
    "        else :\n",
    "            # compute QV\n",
    "            minimum = 1e100\n",
    "            min_index = 0\n",
    "            if (len(C) != 0) :\n",
    "                min_index = np.argmin(abs(x_vect[embedding_size-1] - np.array(C)[:,embedding_size-1]))\n",
    "                minimum = abs(x_vect[embedding_size-1] - np.array(C)[min_index,embedding_size-1])\n",
    "            # update codebook\n",
    "            if (minimum > threshold) :\n",
    "                C.append(x_vect)\n",
    "                h = np.array([Kernel(np.linalg.norm(x_vect - np.array(C[0:(len(C)-1)]), 2, axis=1), kernel_size)]).T\n",
    "                quantized = 1\n",
    "            else :\n",
    "                h = np.array([Kernel(np.linalg.norm(x_vect - np.array(C[0:(len(C))]), 2, axis=1), kernel_size)]).T\n",
    "                quantized = 0\n",
    "            # compute vectors\n",
    "            z = np.array(Q@h)\n",
    "            r = regularizer + Kernel(0, kernel_size) - z.T@h\n",
    "            # update error\n",
    "            y[i] = h.T@np.array(a)\n",
    "            e[i] = d[i] - y[i]\n",
    "            # compute output if quantized\n",
    "            if (quantized == 1) :\n",
    "                # update Q matrix\n",
    "                Q_dim = len(z) + 1\n",
    "                Q_t = np.zeros((Q_dim, Q_dim))\n",
    "                Q_t[0:(Q_dim-1), 0:(Q_dim-1)] = r*Q + z@z.T\n",
    "                Q_t[0:(Q_dim-1), (Q_dim-1):Q_dim] = -z\n",
    "                Q_t[(Q_dim-1):Q_dim, 0:(Q_dim-1)] = -z.T\n",
    "                Q_t[(Q_dim-1):Q_dim, (Q_dim-1):Q_dim] = 1\n",
    "                Q = Q_t / r\n",
    "                # update weights\n",
    "                a_t = np.zeros((Q_dim,1))\n",
    "                a_t[0:(Q_dim-1)] = a - z*e[i] / r\n",
    "                a_t[(Q_dim-1):Q_dim] = e[i] / r\n",
    "                a = a_t\n",
    "            #else :\n",
    "            #    a[min_index] += e[i]\n",
    "        # update growth curve\n",
    "        growth[i] = len(C)\n",
    "    return e, y, growth, np.array(a)"
   ]
  },
  {
   "cell_type": "code",
   "execution_count": 7,
   "id": "c5e1ccc6",
   "metadata": {},
   "outputs": [],
   "source": [
    "# KRLS filter with MSE cost function\n",
    "def QKRLS_MCC(x, d, regularizer, forgetting_factor, kernel_size, entropy_kernel_size, embedding_size, threshold) :\n",
    "    # calculate epochs\n",
    "    epochs = np.size(x)\n",
    "    # initialize vectors\n",
    "    x = np.concatenate((np.zeros(embedding_size), x))\n",
    "    e = np.zeros(epochs)\n",
    "    y = np.zeros(epochs)\n",
    "    growth = np.zeros(epochs)\n",
    "    C = []\n",
    "    a = []\n",
    "    Q = 0\n",
    "    # iterate through samples\n",
    "    for i in range(epochs) :\n",
    "        # run QKRLS\n",
    "        x_vect = x[i:(i+embedding_size)]\n",
    "        if (i == 0) :\n",
    "            Q = np.array([regularizer*(entropy_kernel_size**2)*forgetting_factor + Kernel(0, kernel_size)**-1])\n",
    "            a = np.array([Q*d[0]])\n",
    "            y[0] = 0\n",
    "            C.append(x_vect)\n",
    "        else :\n",
    "            # compute QV\n",
    "            minimum = 1e100\n",
    "            min_index = 0\n",
    "            if (len(C) != 0) :\n",
    "                min_index = np.argmin(abs(x_vect[embedding_size-1] - np.array(C)[:,embedding_size-1]))\n",
    "                minimum = abs(x_vect[embedding_size-1] - np.array(C)[min_index,embedding_size-1])\n",
    "            # update codebook\n",
    "            if (minimum > threshold) :\n",
    "                C.append(x_vect)\n",
    "                h = np.array([Kernel(np.linalg.norm(x_vect - np.array(C[0:(len(C)-1)]), 2, axis=1), kernel_size)]).T\n",
    "                quantized = 1\n",
    "            else :\n",
    "                h = np.array([Kernel(np.linalg.norm(x_vect - np.array(C[0:(len(C))]), 2, axis=1), kernel_size)]).T\n",
    "                quantized = 0\n",
    "            # update error\n",
    "            y[i] = h.T@np.array(a)\n",
    "            e[i] = d[i] - y[i]\n",
    "            # compute output if quantized\n",
    "            if (quantized == 1) :\n",
    "                # compute vectors\n",
    "                z = np.array(Q@h)\n",
    "                phi = Kernel(e[i], entropy_kernel_size)**-1\n",
    "                r = regularizer*(entropy_kernel_size**2)*forgetting_factor + Kernel(0, kernel_size) - z.T@h\n",
    "                # update Q matrix\n",
    "                Q_dim = len(z) + 1\n",
    "                Q_t = np.zeros((Q_dim, Q_dim))\n",
    "                Q_t[0:(Q_dim-1), 0:(Q_dim-1)] = r*Q + z@z.T\n",
    "                Q_t[0:(Q_dim-1), (Q_dim-1):Q_dim] = -z\n",
    "                Q_t[(Q_dim-1):Q_dim, 0:(Q_dim-1)] = -z.T\n",
    "                Q_t[(Q_dim-1):Q_dim, (Q_dim-1):Q_dim] = 1\n",
    "                Q = Q_t / r\n",
    "                # update weights\n",
    "                a_t = np.zeros((Q_dim,1))\n",
    "                a_t[0:(Q_dim-1)] = a - z*e[i] / r\n",
    "                a_t[(Q_dim-1):Q_dim] = e[i] / r\n",
    "                a = a_t\n",
    "            else :\n",
    "                a[min_index] += e[i]\n",
    "        # update growth curve\n",
    "        growth[i] = len(C)\n",
    "    return e, y, growth, a"
   ]
  },
  {
   "cell_type": "code",
   "execution_count": 8,
   "id": "8b19eb70",
   "metadata": {},
   "outputs": [],
   "source": [
    "# transform input signal with weights in RKHS\n",
    "def KernelFilter(x, a, kernel_size, embedding_size) :\n",
    "    # determine min size between x and a\n",
    "    epochs = x.size #min(x.size, a.size)\n",
    "    # concatenate with 0s\n",
    "    x = np.concatenate((x, np.zeros(embedding_size)))\n",
    "    # define input matrix and vectors\n",
    "    y = np.zeros(epochs)\n",
    "    input_m = np.zeros((epochs, embedding_size))\n",
    "    for j in range(epochs) :\n",
    "        input_m[j,:] = x[j:(j+embedding_size)]\n",
    "    # apply filter\n",
    "    for i in range(epochs) :\n",
    "        if (i != 0) :\n",
    "            x1 = np.array(x[i:(i+embedding_size)])\n",
    "            if (a.size > i) :\n",
    "                x2 = input_m[0:i,:]\n",
    "                y[i-1] = a[0:i].T @ Kernel(np.linalg.norm(x1 - x2, 2, axis=1), kernel_size)\n",
    "            else :\n",
    "                x2 = input_m[i-a.size:i,:]\n",
    "                y[i-1] = a.T @ Kernel(np.linalg.norm(x1 - x2, 2, axis=1), kernel_size)\n",
    "    return y"
   ]
  },
  {
   "cell_type": "code",
   "execution_count": 9,
   "id": "8ba0c414",
   "metadata": {},
   "outputs": [],
   "source": [
    "# generates N data points\n",
    "def GenerateTrajectory(x, a, kernel_size, embedding_size, N) :\n",
    "    y = KernelFilter(x, a, kernel_size, embedding_size)\n",
    "    start = y.size\n",
    "    stop = start + N - embedding_size\n",
    "    y = np.concatenate((y, np.zeros(N)))\n",
    "    y_m = np.zeros((stop, embedding_size))\n",
    "    for j in range(start) :\n",
    "        y_m[j,:] = y[j:(j+embedding_size)]\n",
    "    for i in range(start, stop) :\n",
    "        #print(i-1, i+embedding_size-1)\n",
    "        x1 = np.array(y[(i-1):(i+embedding_size-1)])\n",
    "        if (a.size > i) :\n",
    "            x2 = y_m[i-a.size:i,:]\n",
    "            y[i-1] = a[0:i].T @ Kernel(np.linalg.norm(x1 - x2, 2, axis=1), kernel_size)\n",
    "        else :\n",
    "            x2 = y_m[i-a.size:i,:]\n",
    "            y[i] = a.T @ Kernel(np.linalg.norm(x1 - x2, 2, axis=1), kernel_size)\n",
    "    return y"
   ]
  },
  {
   "cell_type": "code",
   "execution_count": 10,
   "id": "ebfe9bb7",
   "metadata": {},
   "outputs": [
    {
     "name": "stdout",
     "output_type": "stream",
     "text": [
      "1100 105 837\n"
     ]
    },
    {
     "data": {
      "image/png": "[encoded data removed]",
      "text/plain": [
       "<Figure size 432x288 with 1 Axes>"
      ]
     },
     "metadata": {
      "needs_background": "light"
     },
     "output_type": "display_data"
    },
    {
     "data": {
      "image/png": "[encoded data removed]",
      "text/plain": [
       "<Figure size 432x288 with 1 Axes>"
      ]
     },
     "metadata": {
      "needs_background": "light"
     },
     "output_type": "display_data"
    },
    {
     "data": {
      "image/png": "[encoded data removed]",
      "text/plain": [
       "<Figure size 432x288 with 1 Axes>"
      ]
     },
     "metadata": {
      "needs_background": "light"
     },
     "output_type": "display_data"
    }
   ],
   "source": [
    "### DELETE LATER ###\n",
    "mean = 0\n",
    "var = 1\n",
    "L = 5002\n",
    "y = np.random.normal(mean, var, L)\n",
    "h = np.array([-0.8, 0.7])\n",
    "t = np.convolve(h, y)[0:L]\n",
    "q = t + 0.25*(t**2) + 0.11*(t**3)\n",
    "P = np.sum(q**2) / L\n",
    "SNR = 10**(15/10)\n",
    "xn = q + np.sqrt(P/SNR) * np.random.normal(0, 1, L)\n",
    "x = xn[2:5002]\n",
    "d = y[0:5000]\n",
    "\n",
    "regularizer = 1e-3\n",
    "step_size = 0.001\n",
    "embedding_size = 5\n",
    "kernel_size = 1\n",
    "entropy_kernel_size = 10\n",
    "threshold = 0.001\n",
    "forgetting_factor = 0.99\n",
    "J3, y3, growth3, a3 = QKLMS_MCC(x[0:1100], d[0:1100], kernel_size, entropy_kernel_size, embedding_size, step_size, threshold)\n",
    "J, y, growth, a = QKRLS_MCC(x[0:1100], d[0:1100], regularizer, forgetting_factor, kernel_size, entropy_kernel_size, embedding_size, threshold)\n",
    "J2, y2, growth2, a2 = QKRLS_MSE(x[0:1100], d[0:1100], regularizer, kernel_size, embedding_size, threshold)\n",
    "#y1 = KernelFilter(x[0:250], a, kernel_size, embedding_size)\n",
    "y1 = GenerateTrajectory(x[0:5], a, kernel_size, embedding_size, 100)\n",
    "\n",
    "print(y.size, y1.size, a.size)\n",
    "\n",
    "y = y[0:200]\n",
    "y1 = y1[0:200]\n",
    "\n",
    "# plot output wave\n",
    "plt.plot(np.linspace(0, np.size(growth), np.size(growth)), growth)\n",
    "plt.title(\"Growth Curve\")\n",
    "plt.show()\n",
    "\n",
    "plt.plot(np.linspace(0, np.size(J), np.size(J)), J)\n",
    "plt.title(\"Cost Function\")\n",
    "plt.show()\n",
    "\n",
    "#plt.plot(np.linspace(0, np.size(y), np.size(y)), y)\n",
    "plt.plot(np.linspace(0, np.size(y1), np.size(y1)), y1)\n",
    "plt.title(\"Desired and Transformed Signals\")\n",
    "plt.show()\n",
    "### DELETE LATER ###"
   ]
  },
  {
   "cell_type": "code",
   "execution_count": 12,
   "id": "59dff8bc",
   "metadata": {},
   "outputs": [
    {
     "data": {
      "image/png": "[encoded data removed]",
      "text/plain": [
       "<Figure size 432x288 with 1 Axes>"
      ]
     },
     "metadata": {
      "needs_background": "light"
     },
     "output_type": "display_data"
    },
    {
     "data": {
      "image/png": "[encoded data removed]",
      "text/plain": [
       "<Figure size 432x288 with 1 Axes>"
      ]
     },
     "metadata": {
      "needs_background": "light"
     },
     "output_type": "display_data"
    },
    {
     "data": {
      "image/png": "[encoded data removed]",
      "text/plain": [
       "<Figure size 432x288 with 1 Axes>"
      ]
     },
     "metadata": {
      "needs_background": "light"
     },
     "output_type": "display_data"
    },
    {
     "data": {
      "image/png": "[encoded data removed]",
      "text/plain": [
       "<Figure size 432x288 with 1 Axes>"
      ]
     },
     "metadata": {
      "needs_background": "light"
     },
     "output_type": "display_data"
    }
   ],
   "source": [
    "# histograms\n",
    "hist1 = plt.hist(J, bins = 100)\n",
    "plt.title(\"QKRLS MCC\")\n",
    "plt.show()\n",
    "\n",
    "hist2 = plt.hist(J2, bins = 100)\n",
    "plt.title(\"QKRLS MSE\")\n",
    "plt.show()\n",
    "\n",
    "hist2 = plt.hist(J3, bins = 100)\n",
    "plt.title(\"QKLMS MCC\")\n",
    "plt.show()\n",
    "\n",
    "hist2 = plt.hist(y1[0:100] - d[0:100], bins = 100)\n",
    "plt.title(\"Trajectory\")\n",
    "plt.show()"
   ]
  },
  {
   "cell_type": "code",
   "execution_count": null,
   "id": "c94b8bd4",
   "metadata": {},
   "outputs": [],
   "source": []
  }
 ],
 "metadata": {
  "kernelspec": {
   "display_name": "Python 3",
   "language": "python",
   "name": "python3"
  },
  "language_info": {
   "codemirror_mode": {
    "name": "ipython",
    "version": 3
   },
   "file_extension": ".py",
   "mimetype": "text/x-python",
   "name": "python",
   "nbconvert_exporter": "python",
   "pygments_lexer": "ipython3",
   "version": "3.8.8"
  }
 },
 "nbformat": 4,
 "nbformat_minor": 5
}
