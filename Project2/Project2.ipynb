{
 "cells": [
  {
   "cell_type": "markdown",
   "id": "c5fd76bb",
   "metadata": {},
   "source": [
    "# EEE6504 - HW3 #\n",
    "## Jackson Cornell  | Michael Kim ##"
   ]
  },
  {
   "cell_type": "code",
   "execution_count": 1,
   "id": "575c2fb7",
   "metadata": {},
   "outputs": [],
   "source": [
    "import math\n",
    "import time\n",
    "import numpy as np\n",
    "from numpy import random\n",
    "import matplotlib.pyplot as plt\n",
    "from scipy.linalg import toeplitz"
   ]
  },
  {
   "cell_type": "markdown",
   "id": "361077cb",
   "metadata": {},
   "source": [
    "## Functions ##"
   ]
  },
  {
   "cell_type": "code",
   "execution_count": 2,
   "id": "bee676cd",
   "metadata": {},
   "outputs": [],
   "source": [
    "# Gaussian kernel\n",
    "def Kernel(x, x1, cov) :\n",
    "    return np.exp(-np.linalg.norm(x - x1, 2, axis=1)**2 / cov**2)\n",
    "\n",
    "def Kernel2(x, x1, cov) :\n",
    "    return np.exp(-(x - x1)**2 / cov**2)"
   ]
  },
  {
   "cell_type": "code",
   "execution_count": 3,
   "id": "bc73937b",
   "metadata": {},
   "outputs": [],
   "source": [
    "# KLMS filter with MSE cost function\n",
    "# will edit into QKLMS later\n",
    "def KLMS_MSE(x, d, kernel_size, M, mu) :\n",
    "    # calculate epochs\n",
    "    epochs = np.size(x) - M\n",
    "    # initialize vectors\n",
    "    e = np.zeros(epochs)\n",
    "    y = np.zeros(epochs)\n",
    "    a = np.zeros(epochs)\n",
    "    growth = np.zeros(epochs)\n",
    "    input_m = np.zeros((epochs, M))\n",
    "    # define input matrix\n",
    "    for j in range(epochs) :\n",
    "        input_m[j,:] = x[j:(j+M)]\n",
    "    # steepest descent\n",
    "    for i in range(epochs) :\n",
    "        # compute output\n",
    "        y[i] = 0\n",
    "        x1 = np.array(x[i:(i+M)])\n",
    "        if (i != 0) :\n",
    "            x2 = input_m[0:i,:]\n",
    "            y[i] += a[0:i].T @ Kernel(x1, x2, kernel_size)\n",
    "        # update error and coefficients\n",
    "        e[i] = d[i+M-1] - y[i]\n",
    "        a[i] = mu*e[i]\n",
    "        growth[i] = i+1\n",
    "    # return weights and learning curve\n",
    "    return e**2, y, growth, a"
   ]
  },
  {
   "cell_type": "code",
   "execution_count": null,
   "id": "2ac0449c",
   "metadata": {},
   "outputs": [],
   "source": [
    "# KRLS filter with MSE cost function\n",
    "# will turn into QKRLS later\n",
    "def KRLS_MSE(x, d, lam, kernel_size) :\n",
    "    # calculate epochs\n",
    "    epochs = np.size(x)\n",
    "    # initialize vectors\n",
    "    e = np.zeros(epochs)\n",
    "    y = np.zeros(epochs)\n",
    "    a = np.zeros(epochs)\n",
    "    growth = np.zeros(epochs)\n",
    "    r = np.zeros(epochs)\n",
    "    # iterate through samples\n",
    "    for i in range(epochs) :\n",
    "        # calculate vectors\n",
    "        if (i == 0) :\n",
    "            Q = np.array(lam + Kernel(x[0], x[0], kernel_size)).inv\n",
    "            a[0] = Q*d[0]\n",
    "        else :\n",
    "            x_v = x[0:i]\n",
    "            h = Kernel(x[i], x_v, kernel_size).T\n",
    "            z = Q @ h\n",
    "            r[i] = lam + Kernel(x[i], x[i], kernel_size) - z.T@h\n",
    "            #Q = r.inv @ ???\n",
    "            e[i] = d[i]- h[i].T @ a[i-1]\n",
    "           # a[i] = ???"
   ]
  }
 ],
 "metadata": {
  "kernelspec": {
   "display_name": "Python 3",
   "language": "python",
   "name": "python3"
  },
  "language_info": {
   "codemirror_mode": {
    "name": "ipython",
    "version": 3
   },
   "file_extension": ".py",
   "mimetype": "text/x-python",
   "name": "python",
   "nbconvert_exporter": "python",
   "pygments_lexer": "ipython3",
   "version": "3.8.8"
  }
 },
 "nbformat": 4,
 "nbformat_minor": 5
}
