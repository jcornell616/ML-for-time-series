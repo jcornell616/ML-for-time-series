{
 "cells": [
  {
   "cell_type": "markdown",
   "id": "c5fd76bb",
   "metadata": {},
   "source": [
    "# EEE6504 - HW3 #\n",
    "## Jackson Cornell  | Michael Kim ##"
   ]
  },
  {
   "cell_type": "code",
   "execution_count": 1,
   "id": "575c2fb7",
   "metadata": {},
   "outputs": [],
   "source": [
    "import math\n",
    "import time\n",
    "import numpy as np\n",
    "from numpy import random\n",
    "import matplotlib.pyplot as plt\n",
    "from scipy.linalg import toeplitz"
   ]
  },
  {
   "cell_type": "markdown",
   "id": "361077cb",
   "metadata": {},
   "source": [
    "## Functions ##"
   ]
  },
  {
   "cell_type": "code",
   "execution_count": 2,
   "id": "bee676cd",
   "metadata": {},
   "outputs": [],
   "source": [
    "# Gaussian kernel\n",
    "def Kernel(x, kernel_size) :\n",
    "    return np.exp(-x**2 / kernel_size**2)"
   ]
  },
  {
   "cell_type": "code",
   "execution_count": 3,
   "id": "bc73937b",
   "metadata": {},
   "outputs": [],
   "source": [
    "# QKLMS filter with MSE cost function\n",
    "def QKLMS_MSE(x, d, kernel_size, embedding_size, step_size, threshold) :\n",
    "    # calculate epochs\n",
    "    epochs = np.size(x) - embedding_size\n",
    "    # initialize vectors\n",
    "    e = np.zeros(epochs)\n",
    "    y = np.zeros(epochs)\n",
    "    a = np.zeros(epochs)\n",
    "    growth = np.zeros(epochs)\n",
    "    C = []\n",
    "    err = []\n",
    "    for i in range(epochs) :\n",
    "        # compute output\n",
    "        y[i] = 0\n",
    "        x_vect = np.array(x[i:(i+embedding_size)])\n",
    "        if (i != 0) :\n",
    "            y[i] += step_size * np.array(err[0:i]).T @ Kernel(np.linalg.norm(x_vect - np.array(C), 2, axis=1), kernel_size)\n",
    "        # update error\n",
    "        e[i] = d[i+embedding_size-1] - y[i]\n",
    "        # compute minimum distance\n",
    "        minimum = 1e100\n",
    "        index = 0\n",
    "        if (len(C) != 0) :\n",
    "            min_index = np.argmin(abs(x[i+embedding_size-1] - np.array(C)[:,embedding_size-1]))\n",
    "            minimum = abs(x[i+embedding_size-1] - np.array(C)[min_index,embedding_size-1])\n",
    "        # update codebook\n",
    "        if (minimum > threshold) :\n",
    "            C.append(x_vect)\n",
    "            err.append(e[i])\n",
    "        else :\n",
    "            err[index] += e[i]\n",
    "        growth[i] = len(C)\n",
    "    # return weights and learning curve\n",
    "    return e**2, y, growth, step_size*np.array(err)"
   ]
  },
  {
   "cell_type": "code",
   "execution_count": 4,
   "id": "8c255b68",
   "metadata": {},
   "outputs": [],
   "source": [
    "# QKLMS filter with MCC cost function\n",
    "def QKLMS_MCC(x, d, kernel_size, entropy_kernel_size, embedding_size, step_size, threshold) :\n",
    "    # calculate epochs\n",
    "    epochs = np.size(x) - embedding_size\n",
    "    # initialize vectors\n",
    "    e = np.zeros(epochs)\n",
    "    y = np.zeros(epochs)\n",
    "    a = np.zeros(epochs)\n",
    "    growth = np.zeros(epochs)\n",
    "    C = []\n",
    "    err = []\n",
    "    for i in range(epochs) :\n",
    "        # compute output\n",
    "        y[i] = 0\n",
    "        x_vect = np.array(x[i:(i+embedding_size)])\n",
    "        if (i != 0) :\n",
    "            y[i] += step_size * (np.array(err[0:i]) * Kernel(np.array(err[0:i]), entropy_kernel_size)).T @ Kernel(np.linalg.norm(x_vect - np.array(C), 2, axis=1), kernel_size) / entropy_kernel_size**2\n",
    "        # update error\n",
    "        e[i] = d[i+embedding_size-1] - y[i]\n",
    "        # compute minimum distance\n",
    "        minimum = 1e100\n",
    "        index = 0\n",
    "        if (len(C) != 0) :\n",
    "            min_index = np.argmin(abs(x[i+embedding_size-1] - np.array(C)[:,embedding_size-1]))\n",
    "            minimum = abs(x[i+embedding_size-1] - np.array(C)[min_index,embedding_size-1])\n",
    "        # update codebook\n",
    "        if (minimum > threshold) :\n",
    "            C.append(x_vect)\n",
    "            err.append(e[i])\n",
    "        else :\n",
    "            err[index] += e[i]\n",
    "        growth[i] = len(C)\n",
    "    # return weights and learning curve\n",
    "    return e**2, y, growth, step_size*np.array(err)"
   ]
  },
  {
   "cell_type": "code",
   "execution_count": 5,
   "id": "2ac0449c",
   "metadata": {},
   "outputs": [],
   "source": [
    "# KRLS filter with MSE cost function\n",
    "def KRLS_MSE(x, d, lam, kernel_size) :\n",
    "    # calculate epochs\n",
    "    epochs = np.size(x)\n",
    "    # initialize vectors\n",
    "    e = np.zeros(epochs)\n",
    "    y = np.zeros(epochs)\n",
    "    a = np.zeros(epochs)\n",
    "    growth = np.zeros(epochs)\n",
    "    r = np.zeros(epochs)\n",
    "    # iterate through samples\n",
    "    for i in range(epochs) :\n",
    "        # calculate vectors\n",
    "        if (i == 0) :\n",
    "            Q = np.array(lam + Kernel(x[0], x[0], kernel_size)).inv\n",
    "            a[0] = Q*d[0]\n",
    "        else :\n",
    "            x_v = x[0:i]\n",
    "            h = Kernel(x[i], x_v, kernel_size).T\n",
    "            z = Q @ h\n",
    "            r[i] = lam + Kernel(x[i], x[i], kernel_size) - z.T@h\n",
    "            #Q = r.inv @ #???\n",
    "            e[i] = d[i]- h[i].T @ a[i-1]\n",
    "            #a[i] = #???"
   ]
  },
  {
   "cell_type": "code",
   "execution_count": 8,
   "id": "ebfe9bb7",
   "metadata": {},
   "outputs": [
    {
     "data": {
      "image/png": "[encoded data removed]",
      "text/plain": [
       "<Figure size 432x288 with 1 Axes>"
      ]
     },
     "metadata": {
      "needs_background": "light"
     },
     "output_type": "display_data"
    },
    {
     "data": {
      "image/png": "[encoded data removed]",
      "text/plain": [
       "<Figure size 432x288 with 1 Axes>"
      ]
     },
     "metadata": {
      "needs_background": "light"
     },
     "output_type": "display_data"
    }
   ],
   "source": [
    "### DELETE LATER ###\n",
    "mean = 0\n",
    "var = 1\n",
    "L = 5002\n",
    "y = np.random.normal(mean, var, L)\n",
    "h = np.array([-0.8, 0.7])\n",
    "t = np.convolve(h, y)[0:L]\n",
    "q = t + 0.25*(t**2) + 0.11*(t**3)\n",
    "P = np.sum(q**2) / L\n",
    "SNR = 10**(15/10)\n",
    "xn = q + np.sqrt(P/SNR) * np.random.normal(0, 1, L)\n",
    "x = xn[2:5002]\n",
    "d = y[0:5000]\n",
    "\n",
    "step_size = 0.5\n",
    "embedding_size = 5\n",
    "kernel_size = 5\n",
    "entropy_kernel_size = 1\n",
    "threshold = 5e-4\n",
    "J, y, growth, a = QKLMS_MCC(x, d, kernel_size, entropy_kernel_size, embedding_size, step_size, threshold)\n",
    "\n",
    "# plot output wave\n",
    "plt.plot(np.linspace(0, np.size(growth), np.size(growth)), growth)\n",
    "plt.title(\"Desired and Transformed Signals\")\n",
    "plt.show()\n",
    "\n",
    "plt.plot(np.linspace(0, np.size(J), np.size(J)), J)\n",
    "plt.title(\"Desired and Transformed Signals\")\n",
    "plt.show()\n",
    "### DELETE LATER ###"
   ]
  },
  {
   "cell_type": "code",
   "execution_count": null,
   "id": "46ef68ea",
   "metadata": {},
   "outputs": [],
   "source": []
  }
 ],
 "metadata": {
  "kernelspec": {
   "display_name": "Python 3",
   "language": "python",
   "name": "python3"
  },
  "language_info": {
   "codemirror_mode": {
    "name": "ipython",
    "version": 3
   },
   "file_extension": ".py",
   "mimetype": "text/x-python",
   "name": "python",
   "nbconvert_exporter": "python",
   "pygments_lexer": "ipython3",
   "version": "3.8.8"
  }
 },
 "nbformat": 4,
 "nbformat_minor": 5
}
