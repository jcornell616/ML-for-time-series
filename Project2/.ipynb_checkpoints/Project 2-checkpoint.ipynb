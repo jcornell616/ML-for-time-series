{
 "cells": [
  {
   "cell_type": "code",
   "execution_count": 1,
   "id": "83a4d23a",
   "metadata": {},
   "outputs": [],
   "source": [
    "import math\n",
    "import time\n",
    "import numpy as np\n",
    "from numpy import random\n",
    "import matplotlib.pyplot as plt\n",
    "from scipy.linalg import toeplitz"
   ]
  },
  {
   "cell_type": "code",
   "execution_count": 2,
   "id": "95438679",
   "metadata": {},
   "outputs": [],
   "source": [
    "# Gaussian kernel\n",
    "def Kernel(x, kernel_size) :\n",
    "    return np.exp(-x**2 / kernel_size**2)"
   ]
  },
  {
   "cell_type": "code",
   "execution_count": 3,
   "id": "170a9c6b",
   "metadata": {},
   "outputs": [],
   "source": [
    "class LMS_MCC():\n",
    "    def __init__(self, step_size, order, sigma):\n",
    "        self.step_size = step_size\n",
    "        self.order = order\n",
    "        self.sigma = sigma\n",
    "        \n",
    "    def learn(self, u, d):\n",
    "        # initialize\n",
    "        f = np.zeros(len(d))\n",
    "        e = np.zeros(len(d))\n",
    "        w = np.random.rand(self.order)\n",
    "        w_trk = np.zeros((len(d)-self.order, self.order))\n",
    "        # compute\n",
    "        for i in range(1, len(d)-self.order):\n",
    "            y = np.dot(w,u[i:i+self.order])\n",
    "            e[i] = d[i+self.order] - y\n",
    "            w = w + ((self.step_size / (np.sqrt(2 * np.pi) * self.sigma**3)) * np.exp(-e[i]**2 / (2 * self.sigma**2)) * e[i] * u[i])\n",
    "            f[i] = y\n",
    "            w_trk[i] = w \n",
    "        return f, w_trk, e\n",
    "    \n",
    "    def predict(self, u, d, w):\n",
    "        # initialize\n",
    "        f = np.zeros(len(d))\n",
    "        e = np.zeros(len(d))\n",
    "        # compute\n",
    "        for i in range(1, len(d)-self.order):\n",
    "            y = np.dot(w,u[i:i+self.order])\n",
    "            e[i] = d[i+self.order] - y\n",
    "            f[i] = y\n",
    "        return f, e \n",
    "\n",
    "# QKLMS filter with MSE cost function\n",
    "def QKLMS_MSE(x, d, kernel_size, embedding_size, step_size, threshold) :\n",
    "    # calculate epochs\n",
    "    epochs = np.size(x) - embedding_size\n",
    "    # initialize vectors\n",
    "    e = np.zeros(epochs)\n",
    "    y = np.zeros(epochs)\n",
    "    a = np.zeros(epochs)\n",
    "    growth = np.zeros(epochs)\n",
    "    C = []\n",
    "    err = []\n",
    "    for i in range(epochs) :\n",
    "        # compute output\n",
    "        y[i] = 0\n",
    "        x_vect = np.array(x[i:(i+embedding_size)])\n",
    "        if (i != 0) :\n",
    "            y[i] += step_size * np.array(err[0:i]).T @ Kernel(np.linalg.norm(x_vect - np.array(C), 2, axis=1), kernel_size)\n",
    "        # update error\n",
    "        e[i] = d[i+embedding_size-1] - y[i]\n",
    "        # compute minimum distance\n",
    "        minimum = 1e100\n",
    "        index = 0\n",
    "        if (len(C) != 0) :\n",
    "            min_index = np.argmin(abs(x[i+embedding_size-1] - np.array(C)[:,embedding_size-1]))\n",
    "            minimum = abs(x[i+embedding_size-1] - np.array(C)[min_index,embedding_size-1])\n",
    "        # update codebook\n",
    "        if (minimum > threshold) :\n",
    "            C.append(x_vect)\n",
    "            err.append(e[i])\n",
    "        else :\n",
    "            err[index] += e[i]\n",
    "        growth[i] = len(C)\n",
    "    # return weights and learning curve\n",
    "    return e**2, y, growth, step_size*np.array(err)"
   ]
  },
  {
   "cell_type": "code",
   "execution_count": 4,
   "id": "301a047d",
   "metadata": {},
   "outputs": [],
   "source": [
    "data = np.loadtxt(\"sun_spot_input.asc\")\n",
    "series = np.array(data)"
   ]
  },
  {
   "cell_type": "code",
   "execution_count": 5,
   "id": "11e1e450",
   "metadata": {},
   "outputs": [
    {
     "data": {
      "text/plain": [
       "[<matplotlib.lines.Line2D at 0x23e62b08e20>]"
      ]
     },
     "execution_count": 5,
     "metadata": {},
     "output_type": "execute_result"
    },
    {
     "data": {
      "image/png": "[encoded data removed]",
      "text/plain": [
       "<Figure size 432x288 with 1 Axes>"
      ]
     },
     "metadata": {
      "needs_background": "light"
     },
     "output_type": "display_data"
    }
   ],
   "source": [
    "plt.plot(series)"
   ]
  },
  {
   "cell_type": "code",
   "execution_count": 7,
   "id": "9041d6ea",
   "metadata": {},
   "outputs": [
    {
     "name": "stdout",
     "output_type": "stream",
     "text": [
      "[12726157.28]\n"
     ]
    },
    {
     "data": {
      "text/plain": [
       "[<matplotlib.lines.Line2D at 0x23e632d0d30>]"
      ]
     },
     "execution_count": 7,
     "metadata": {},
     "output_type": "execute_result"
    },
    {
     "data": {
      "image/png": "[encoded data removed]",
      "text/plain": [
       "<Figure size 432x288 with 1 Axes>"
      ]
     },
     "metadata": {
      "needs_background": "light"
     },
     "output_type": "display_data"
    }
   ],
   "source": [
    "r = np.correlate(series, series, 'full')\n",
    "plt.plot(r)"
   ]
  },
  {
   "cell_type": "code",
   "execution_count": null,
   "id": "57768cb3",
   "metadata": {},
   "outputs": [],
   "source": []
  }
 ],
 "metadata": {
  "kernelspec": {
   "display_name": "Python 3",
   "language": "python",
   "name": "python3"
  },
  "language_info": {
   "codemirror_mode": {
    "name": "ipython",
    "version": 3
   },
   "file_extension": ".py",
   "mimetype": "text/x-python",
   "name": "python",
   "nbconvert_exporter": "python",
   "pygments_lexer": "ipython3",
   "version": "3.8.8"
  }
 },
 "nbformat": 4,
 "nbformat_minor": 5
}
