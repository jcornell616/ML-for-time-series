{
 "cells": [
  {
   "cell_type": "markdown",
   "id": "5b00af0b",
   "metadata": {},
   "source": [
    "# EEE6504 - Project 1 #\n",
    "## Jackson Cornell ##"
   ]
  },
  {
   "cell_type": "code",
   "execution_count": 1,
   "id": "a611e935",
   "metadata": {},
   "outputs": [],
   "source": [
    "import math\n",
    "import time\n",
    "import scipy.io\n",
    "import numpy as np\n",
    "from numpy import random\n",
    "from scipy import signal\n",
    "from scipy.io import wavfile\n",
    "import matplotlib.pyplot as plt\n",
    "from scipy.linalg import toeplitz\n",
    "from scipy.stats import levy_stable\n",
    "from statsmodels.graphics.tsaplots import plot_acf"
   ]
  },
  {
   "cell_type": "markdown",
   "id": "7d71826d",
   "metadata": {},
   "source": [
    "## Functions ##"
   ]
  },
  {
   "cell_type": "code",
   "execution_count": 2,
   "id": "019ce660",
   "metadata": {},
   "outputs": [],
   "source": [
    "# Affine projection using gradient descent and non-regularized solution\n",
    "def APA1(x, d, K, L, mu) :\n",
    "    # number of iterations\n",
    "    epochs = np.size(x) - L - K\n",
    "    # initialize weights\n",
    "    w = np.zeros(K)\n",
    "    # iterate through data stream\n",
    "    for i in range(epochs) :\n",
    "        # construct input matrix\n",
    "        X = np.zeros((K, L))\n",
    "        for l in range(L) :\n",
    "            X[:,l] = x[(i+l):(i+l+K)]\n",
    "        # construct desired vector\n",
    "        D = d[(i+K):(i+K+L)]\n",
    "        # update weights\n",
    "        w = w + mu*X@(D - X.T@w)\n",
    "    return w\n",
    "\n",
    "# Affine projection using newton's method and non-regularized solution\n",
    "def APA2(x, d, K, L, mu, eps) :\n",
    "    # number of iterations\n",
    "    epochs = np.size(x) - L - K\n",
    "    # initialize weights\n",
    "    w = np.zeros(K)\n",
    "    # iterate through data stream\n",
    "    for i in range(epochs) :\n",
    "        # construct input matrix\n",
    "        X = np.zeros((K, L))\n",
    "        for l in range(L) :\n",
    "            X[:,l] = x[(i+l):(i+l+K)]\n",
    "        # construct desired vector\n",
    "        D = d[(i+K):(i+K+L)]\n",
    "        # update weights\n",
    "        w = w + mu*X@np.linalg.inv(X.T@X + eps*np.identity(L))@(D - X.T@w)\n",
    "    return w\n",
    "\n",
    "# Affine projection using gradient descent and regularized solution\n",
    "def APA3(x, d, K, L, mu, lam) :\n",
    "    # number of iterations\n",
    "    epochs = np.size(x) - L - K\n",
    "    # initialize weights\n",
    "    w = np.zeros(K)\n",
    "    # iterate through data stream\n",
    "    for i in range(epochs) :\n",
    "        # construct input matrix\n",
    "        X = np.zeros((K, L))\n",
    "        for l in range(L) :\n",
    "            X[:,l] = x[(i+l):(i+l+K)]\n",
    "        # construct desired vector\n",
    "        D = d[(i+K):(i+K+L)]\n",
    "        # update weights\n",
    "        w = (1 - mu*lam)*w + mu*X@(D - X.T@w)\n",
    "    return w\n",
    "\n",
    "# Affine projection using newton's method and regularized solution\n",
    "def APA4(x, d, K, L, mu, lam) :\n",
    "    # number of iterations\n",
    "    epochs = np.size(x) - L - K\n",
    "    # initialize weights\n",
    "    w = np.zeros(K)\n",
    "    J = np.zeros(epochs)\n",
    "    # iterate through data stream\n",
    "    for i in range(epochs) :\n",
    "        # construct input matrix\n",
    "        X = np.zeros((K, L))\n",
    "        for l in range(L) :\n",
    "            X[:,l] = x[(i+l):(i+l+K)]\n",
    "        # construct desired vector\n",
    "        D = d[(i+K):(i+K+L)]\n",
    "        # update weights\n",
    "        w =(1 - mu)*w + mu*X@np.linalg.inv(X.T@X + lam*np.identity(L))@D\n",
    "        # update learning curve\n",
    "        J[i] = (X[:,0]@w)**2\n",
    "    return w, J"
   ]
  },
  {
   "cell_type": "markdown",
   "id": "322b5ac5",
   "metadata": {},
   "source": [
    "## Read data ##"
   ]
  },
  {
   "cell_type": "code",
   "execution_count": 18,
   "id": "f1487a0c",
   "metadata": {},
   "outputs": [],
   "source": [
    "# read matlab file\n",
    "speech = scipy.io.loadmat('project1.mat')\n",
    "fs = speech.get('fs')[0][0]\n",
    "x = np.array(speech.get('primary')[0])\n",
    "d = np.array(speech.get('reference')[0])"
   ]
  },
  {
   "cell_type": "markdown",
   "id": "efc43644",
   "metadata": {},
   "source": [
    "## 2-tap Filter Analysis ##"
   ]
  },
  {
   "cell_type": "code",
   "execution_count": 20,
   "id": "08d78025",
   "metadata": {},
   "outputs": [
    {
     "name": "stdout",
     "output_type": "stream",
     "text": [
      "[0.43555008 1.33526826]\n"
     ]
    }
   ],
   "source": [
    "# filter data\n",
    "K = 2\n",
    "L = 10\n",
    "mu = 0.001\n",
    "w = APA1(x, d, K, L, mu)"
   ]
  },
  {
   "cell_type": "code",
   "execution_count": 21,
   "id": "a6877f7d",
   "metadata": {},
   "outputs": [],
   "source": [
    "# plot weights performace surface contour"
   ]
  },
  {
   "cell_type": "code",
   "execution_count": 22,
   "id": "79fbcba9",
   "metadata": {},
   "outputs": [],
   "source": [
    "# plot weights track"
   ]
  },
  {
   "cell_type": "code",
   "execution_count": null,
   "id": "fe9c02fb",
   "metadata": {},
   "outputs": [],
   "source": [
    "# plot the learning curve"
   ]
  },
  {
   "cell_type": "code",
   "execution_count": null,
   "id": "d0c499a9",
   "metadata": {},
   "outputs": [],
   "source": [
    "# estimate frequency response"
   ]
  },
  {
   "cell_type": "code",
   "execution_count": null,
   "id": "a67be534",
   "metadata": {},
   "outputs": [],
   "source": [
    "# estimate SNR"
   ]
  },
  {
   "cell_type": "markdown",
   "id": "c2d9f883",
   "metadata": {},
   "source": [
    "## Optimal Filter Order Analysis ##"
   ]
  },
  {
   "cell_type": "code",
   "execution_count": null,
   "id": "05977214",
   "metadata": {},
   "outputs": [],
   "source": []
  }
 ],
 "metadata": {
  "kernelspec": {
   "display_name": "Python 3",
   "language": "python",
   "name": "python3"
  },
  "language_info": {
   "codemirror_mode": {
    "name": "ipython",
    "version": 3
   },
   "file_extension": ".py",
   "mimetype": "text/x-python",
   "name": "python",
   "nbconvert_exporter": "python",
   "pygments_lexer": "ipython3",
   "version": "3.8.8"
  }
 },
 "nbformat": 4,
 "nbformat_minor": 5
}
